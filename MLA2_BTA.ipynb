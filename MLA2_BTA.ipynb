{
  "nbformat": 4,
  "nbformat_minor": 0,
  "metadata": {
    "colab": {
      "provenance": [],
      "authorship_tag": "ABX9TyMLuunRGAOkRYw4itsnF6ul",
      "include_colab_link": true
    },
    "kernelspec": {
      "name": "python3",
      "display_name": "Python 3"
    },
    "language_info": {
      "name": "python"
    }
  },
  "cells": [
    {
      "cell_type": "markdown",
      "metadata": {
        "id": "view-in-github",
        "colab_type": "text"
      },
      "source": [
        "<a href=\"https://colab.research.google.com/github/btalbr01/MLA_BTA/blob/main/MLA2_BTA.ipynb\" target=\"_parent\"><img src=\"https://colab.research.google.com/assets/colab-badge.svg\" alt=\"Open In Colab\"/></a>"
      ]
    },
    {
      "cell_type": "markdown",
      "source": [
        "Machine Learning Assignment 2 <br>\n",
        "Ben Albright<br>\n",
        "CS430-ON<br>\n",
        "Machine Learning in the Cloud"
      ],
      "metadata": {
        "id": "IWKfiA_onrTd"
      }
    },
    {
      "cell_type": "markdown",
      "source": [
        "Imports for specific models"
      ],
      "metadata": {
        "id": "H64J7rzw0Lu4"
      }
    },
    {
      "cell_type": "code",
      "execution_count": 1,
      "metadata": {
        "id": "ifg06Egijzc-"
      },
      "outputs": [],
      "source": [
        "import pandas as pd\n",
        "import numpy as np\n",
        "import matplotlib.pyplot as plt\n",
        "import seaborn as sns\n",
        "%matplotlib inline\n"
      ]
    },
    {
      "cell_type": "code",
      "source": [
        "from google.colab import drive\n",
        "drive.mount('/content/gdrive')"
      ],
      "metadata": {
        "id": "XWO5Sh1e6I3W"
      },
      "execution_count": null,
      "outputs": []
    },
    {
      "cell_type": "code",
      "source": [
        "from sklearn.model_selection import train_test_split, cross_val_predict\n",
        "from sklearn.linear_model import LinearRegression, LogisticRegression\n",
        "from sklearn.compose import ColumnTransformer\n",
        "from sklearn.pipeline import Pipeline\n",
        "from sklearn.preprocessing import OneHotEncoder, MinMaxScaler\n",
        "from sklearn.metrics import mean_squared_error, r2_score, auc, precision_score, recall_score, f1_score, roc_curve, auc, precision_recall_curve, confusion_matrix"
      ],
      "metadata": {
        "id": "E1buv6Bn6S_t"
      },
      "execution_count": null,
      "outputs": []
    },
    {
      "cell_type": "markdown",
      "source": [
        "Linear Regression - Acquire Data"
      ],
      "metadata": {
        "id": "Kp7M5nj90dUM"
      }
    },
    {
      "cell_type": "code",
      "source": [
        "df = pd.read_csv('/content/gdrive/MyDrive/Steel_industry_data.csv')"
      ],
      "metadata": {
        "id": "H6FgPo7ukrzD"
      },
      "execution_count": null,
      "outputs": []
    },
    {
      "cell_type": "code",
      "source": [
        "df.rename({'Usage_kWh':'usage_kwh','Lagging_Current_Reactive.Power_kVarh':'lag_react_pwr_kvarh',\n",
        "           'Leading_Current_Reactive_Power_kVarh':'lead_react_pwr_kvarh','Lagging_Current_Power_Factor':'lag_current_pwr',\n",
        "           'Leading_Current_Power_Factor':'lead_current_pwr','NSM':'nsm','WeekStatus':'week_status', 'Day_of_week':'day_of_week',\n",
        "           'Load_Type':'load_type'}, axis=1, inplace=True)"
      ],
      "metadata": {
        "id": "fgG5n7HvlOte"
      },
      "execution_count": null,
      "outputs": []
    },
    {
      "cell_type": "code",
      "source": [
        "df.columns\n"
      ],
      "metadata": {
        "id": "CHdo57vs7aj5"
      },
      "execution_count": null,
      "outputs": []
    },
    {
      "cell_type": "markdown",
      "source": [
        "Statistics and Visual Exploration"
      ],
      "metadata": {
        "id": "wVjRuRdQ0mUU"
      }
    },
    {
      "cell_type": "code",
      "source": [
        "df.describe()"
      ],
      "metadata": {
        "id": "DqTcjt5r8I5f"
      },
      "execution_count": null,
      "outputs": []
    },
    {
      "cell_type": "code",
      "source": [
        "df.head()"
      ],
      "metadata": {
        "id": "B76BSZHFMM7F"
      },
      "execution_count": null,
      "outputs": []
    },
    {
      "cell_type": "code",
      "source": [
        "load_types = df['load_type'].value_counts()\n",
        "load_types_df = pd.DataFrame(load_types)\n",
        "load_types_df.reset_index(inplace=True)\n",
        "load_types_df.columns = ['load_type', 'count']\n"
      ],
      "metadata": {
        "id": "ID0yWNn7rBpH"
      },
      "execution_count": null,
      "outputs": []
    },
    {
      "cell_type": "code",
      "source": [
        "load_types_df"
      ],
      "metadata": {
        "id": "1XRIq7ZBrOs1"
      },
      "execution_count": null,
      "outputs": []
    },
    {
      "cell_type": "code",
      "source": [
        "plt.figure(figsize=(10,5))\n",
        "sns.barplot(x=\"load_type\", y=\"count\", data = load_types_df)\n",
        "plt.xlabel('load type')\n",
        "plt.ylabel('count')\n"
      ],
      "metadata": {
        "id": "CZIJGs_BwWlf"
      },
      "execution_count": null,
      "outputs": []
    },
    {
      "cell_type": "code",
      "source": [
        "sns.pairplot(df[['usage_kwh', 'lag_react_pwr_kvarh', 'lead_react_pwr_kvarh', 'lag_current_pwr', 'lead_current_pwr', 'nsm', 'week_status', 'day_of_week']])"
      ],
      "metadata": {
        "id": "T4X4XmrvzJtE"
      },
      "execution_count": null,
      "outputs": []
    },
    {
      "cell_type": "markdown",
      "source": [
        "It looks like usage_kwh, lag_react_pwr_kvarh and lead_react_pwr_kvarh all have similar patters when compared to nsm.\n",
        "It seems like the graphs comparing usage_kwh and lag_react_pwr_kvarh to lead_current_pwr are almost identical."
      ],
      "metadata": {
        "id": "iH-Mjh7o0XG6"
      }
    },
    {
      "cell_type": "markdown",
      "source": [
        "Splitting Data into Train/Test"
      ],
      "metadata": {
        "id": "X0Yj-Een0wDz"
      }
    },
    {
      "cell_type": "code",
      "source": [
        "X = df[['lag_react_pwr_kvarh', 'lead_react_pwr_kvarh',\n",
        "       'CO2(tCO2)', 'lag_current_pwr', 'lead_current_pwr', 'nsm',\n",
        "       'week_status', 'day_of_week', 'load_type']]"
      ],
      "metadata": {
        "id": "jIs4V5D7YFDI"
      },
      "execution_count": null,
      "outputs": []
    },
    {
      "cell_type": "code",
      "source": [
        "y = df[['usage_kwh']]\n"
      ],
      "metadata": {
        "id": "nKgbXGKZ1jQZ"
      },
      "execution_count": null,
      "outputs": []
    },
    {
      "cell_type": "code",
      "source": [
        "X_train, X_test, y_train, y_test = train_test_split(X, y, test_size = .2, random_state=42)"
      ],
      "metadata": {
        "id": "Sm8thl3c1wWH"
      },
      "execution_count": null,
      "outputs": []
    },
    {
      "cell_type": "code",
      "source": [
        "cat_attribs = ['week_status', 'day_of_week', 'load_type']\n",
        "num_attribs = ['lag_react_pwr_kvarh', 'lead_react_pwr_kvarh', 'CO2(tCO2)', 'lag_current_pwr', 'lead_current_pwr', 'nsm']"
      ],
      "metadata": {
        "id": "V_Nogil8Cbm9"
      },
      "execution_count": null,
      "outputs": []
    },
    {
      "cell_type": "markdown",
      "source": [
        "Building the Pipeline"
      ],
      "metadata": {
        "id": "SxC8zJe302ps"
      }
    },
    {
      "cell_type": "code",
      "source": [
        "col_transform = ColumnTransformer(transformers=\n",
        "   [('cat',OneHotEncoder(), cat_attribs),\n",
        "   ('num',MinMaxScaler(), num_attribs)])"
      ],
      "metadata": {
        "id": "CYUJtRd6DFJC"
      },
      "execution_count": null,
      "outputs": []
    },
    {
      "cell_type": "code",
      "source": [
        "pipeline = Pipeline([\n",
        "    ('trans', col_transform),\n",
        "    ('lr', LinearRegression())\n",
        "])"
      ],
      "metadata": {
        "id": "3hZ6VJdbFISx"
      },
      "execution_count": null,
      "outputs": []
    },
    {
      "cell_type": "code",
      "source": [
        "from sklearn import set_config\n",
        "set_config(display='diagram')\n",
        "pipeline"
      ],
      "metadata": {
        "id": "um5mVagqFrvK"
      },
      "execution_count": null,
      "outputs": []
    },
    {
      "cell_type": "markdown",
      "source": [
        "Executing the Model"
      ],
      "metadata": {
        "id": "DIbwBssG09JV"
      }
    },
    {
      "cell_type": "code",
      "source": [
        "pipeline.fit(X_train, y_train)\n"
      ],
      "metadata": {
        "id": "_VzfXMcJPP7J"
      },
      "execution_count": null,
      "outputs": []
    },
    {
      "cell_type": "markdown",
      "source": [
        "Evaluating the Model"
      ],
      "metadata": {
        "id": "TfcJvvLd1B_G"
      }
    },
    {
      "cell_type": "code",
      "source": [
        "y_pred = pipeline.predict(X_test)"
      ],
      "metadata": {
        "id": "IXl8kPk_QKUF"
      },
      "execution_count": null,
      "outputs": []
    },
    {
      "cell_type": "code",
      "source": [
        "print(mean_squared_error(y_train, pipeline.predict(X_train))**(0.5))\n",
        "print(mean_squared_error(y_test, pipeline.predict(X_test))**(0.5))"
      ],
      "metadata": {
        "id": "1TxDq85_TUiF"
      },
      "execution_count": null,
      "outputs": []
    },
    {
      "cell_type": "markdown",
      "source": [
        "Conclusion"
      ],
      "metadata": {
        "id": "PWCUwY7P1Ep_"
      }
    },
    {
      "cell_type": "markdown",
      "source": [
        "The train and test sets look like they are getting almost the same results. This makes it seem like the model is consistent in both datasets."
      ],
      "metadata": {
        "id": "AP7EG_a7T2ja"
      }
    },
    {
      "cell_type": "code",
      "source": [
        "y_pred = pipeline.predict(X_test)\n",
        "rsv = r2_score(y_test, y_pred)\n",
        "\n",
        "print(rsv)"
      ],
      "metadata": {
        "id": "mBWTCCRqUnpm"
      },
      "execution_count": null,
      "outputs": []
    },
    {
      "cell_type": "markdown",
      "source": [
        "It looks like the value is about 98.43%, which means that much variance is predictable in the dependant variable from the independent variable."
      ],
      "metadata": {
        "id": "ZrHLGJwJVQIa"
      }
    },
    {
      "cell_type": "code",
      "source": [
        "pipeline.named_steps['lr'].intercept_"
      ],
      "metadata": {
        "id": "xrykdm6SWk0r"
      },
      "execution_count": null,
      "outputs": []
    },
    {
      "cell_type": "code",
      "source": [
        "pipeline.named_steps['lr'].coef_"
      ],
      "metadata": {
        "id": "XWWlmZqtjE4d"
      },
      "execution_count": null,
      "outputs": []
    },
    {
      "cell_type": "markdown",
      "source": [
        "I think this is a suitable model. The RSME values for both train and test are fairly close, and the R-squared value of the model is very high."
      ],
      "metadata": {
        "id": "eLSPG8ZjnRVx"
      }
    },
    {
      "cell_type": "markdown",
      "source": [
        "Logistic Regression - Acquire Data"
      ],
      "metadata": {
        "id": "7g3nWc6r1MBP"
      }
    },
    {
      "cell_type": "code",
      "source": [
        "df['week_status']=df['week_status'].replace({'Weekday':1, 'Weekend':0})"
      ],
      "metadata": {
        "id": "M1jRKy3_WflK"
      },
      "execution_count": null,
      "outputs": []
    },
    {
      "cell_type": "markdown",
      "source": [
        "Splitting Data in to Train/Test"
      ],
      "metadata": {
        "id": "8BLyG3Yd1P5u"
      }
    },
    {
      "cell_type": "code",
      "source": [
        "X = df[['usage_kwh', 'lag_react_pwr_kvarh', 'lead_react_pwr_kvarh', 'CO2(tCO2)', 'lag_current_pwr', 'lead_current_pwr', 'nsm', 'load_type']]"
      ],
      "metadata": {
        "id": "vJgzhhGLXIuH"
      },
      "execution_count": null,
      "outputs": []
    },
    {
      "cell_type": "code",
      "source": [
        "y = df[['week_status']]"
      ],
      "metadata": {
        "id": "H4K2KnW2ZVFo"
      },
      "execution_count": null,
      "outputs": []
    },
    {
      "cell_type": "code",
      "source": [
        "X_train, X_test, y_train, y_test = train_test_split(X, y, test_size=0.2, random_state=42)"
      ],
      "metadata": {
        "id": "yVr7ycFpZdqv"
      },
      "execution_count": null,
      "outputs": []
    },
    {
      "cell_type": "markdown",
      "source": [
        "Building the Pipeline"
      ],
      "metadata": {
        "id": "ElhKNP6s1SvU"
      }
    },
    {
      "cell_type": "code",
      "source": [
        "cat_attribs = ['load_type']\n",
        "num_attribs = ['lag_react_pwr_kvarh', 'lead_react_pwr_kvarh', 'CO2(tCO2)', 'lag_current_pwr', 'lead_current_pwr', 'nsm']"
      ],
      "metadata": {
        "id": "KY_Ql-L7dFwA"
      },
      "execution_count": null,
      "outputs": []
    },
    {
      "cell_type": "code",
      "source": [
        "col_transform = ColumnTransformer(transformers=\n",
        "   [('cat',OneHotEncoder(), cat_attribs),\n",
        "   ('num',MinMaxScaler(), num_attribs)])"
      ],
      "metadata": {
        "id": "jjOfduejdRu0"
      },
      "execution_count": null,
      "outputs": []
    },
    {
      "cell_type": "code",
      "source": [
        "pipe = Pipeline([\n",
        "    ('prep', col_transform),\n",
        "    ('mlr', LogisticRegression(max_iter=1000))\n",
        "])"
      ],
      "metadata": {
        "id": "qKtYcoEmdS0S"
      },
      "execution_count": null,
      "outputs": []
    },
    {
      "cell_type": "markdown",
      "source": [
        "Executing the Mode"
      ],
      "metadata": {
        "id": "9UDdNps71XWk"
      }
    },
    {
      "cell_type": "code",
      "source": [
        "pipe.fit(X_train, np.ravel(y_train))"
      ],
      "metadata": {
        "id": "lml9SXZtdlog"
      },
      "execution_count": null,
      "outputs": []
    },
    {
      "cell_type": "markdown",
      "source": [
        "Evaluating the Model"
      ],
      "metadata": {
        "id": "tRXwPvfg1ayF"
      }
    },
    {
      "cell_type": "code",
      "source": [
        "y_pred = pipe.predict(X_test)"
      ],
      "metadata": {
        "id": "VZuoK8_SejfD"
      },
      "execution_count": null,
      "outputs": []
    },
    {
      "cell_type": "code",
      "source": [
        "def plot_cm(y_test, y_pred):\n",
        "    cm = confusion_matrix(y_test,y_pred)\n",
        "    fig = plt.figure(figsize=(10,10))\n",
        "    heatmap = sns.heatmap(cm, annot=True, fmt='.2f', cmap='RdYlGn')\n",
        "    plt.ylabel('True label')\n",
        "    plt.xlabel('Predicted Label')"
      ],
      "metadata": {
        "id": "38hPX4YDfBZG"
      },
      "execution_count": null,
      "outputs": []
    },
    {
      "cell_type": "code",
      "source": [
        "plot_cm(y_test, y_pred)"
      ],
      "metadata": {
        "id": "Hvt_6VJPf5w1"
      },
      "execution_count": null,
      "outputs": []
    },
    {
      "cell_type": "code",
      "source": [
        "precision_score(y_test, y_pred)\n",
        "\n"
      ],
      "metadata": {
        "id": "W4M6BALHgghD"
      },
      "execution_count": null,
      "outputs": []
    },
    {
      "cell_type": "code",
      "source": [
        "recall_score(y_test, y_pred)"
      ],
      "metadata": {
        "id": "mIp7GZXrhEHq"
      },
      "execution_count": null,
      "outputs": []
    },
    {
      "cell_type": "code",
      "source": [
        "f1_score(y_test, y_pred)"
      ],
      "metadata": {
        "id": "H2i93vf-hFoP"
      },
      "execution_count": null,
      "outputs": []
    },
    {
      "cell_type": "code",
      "source": [
        "precision, recall, thresholds = precision_recall_curve(y_test, pipe.predict_proba(X_test)[:, 1])\n",
        "pr_auc = auc(recall, precision)\n",
        "\n",
        "plt.figure()\n",
        "\n",
        "plt.plot(recall, precision, label = pr_auc)\n",
        "plt.xlabel('Recall')\n",
        "plt.ylabel('Precision')\n",
        "plt.legend()"
      ],
      "metadata": {
        "id": "5h6yG3LqiIxd"
      },
      "execution_count": null,
      "outputs": []
    },
    {
      "cell_type": "markdown",
      "source": [
        "I used the because the difference between the precision and recall are so significant. The high recall score implies that the dataset might be imbalanced,and it also provides a better view of false positives."
      ],
      "metadata": {
        "id": "uHFX0bBjyK-0"
      }
    },
    {
      "cell_type": "markdown",
      "source": [
        "Conclusion"
      ],
      "metadata": {
        "id": "9iAQVqsg1fLm"
      }
    },
    {
      "cell_type": "markdown",
      "source": [
        "This model seems decent to good for predicting week_status. The recall score is over 96%. The precision isn't as good at only 77.54%, but that is still better than one might get just by guessing randomly. I'm sure there is room for refinement."
      ],
      "metadata": {
        "id": "8g1IANI78ef4"
      }
    }
  ]
}